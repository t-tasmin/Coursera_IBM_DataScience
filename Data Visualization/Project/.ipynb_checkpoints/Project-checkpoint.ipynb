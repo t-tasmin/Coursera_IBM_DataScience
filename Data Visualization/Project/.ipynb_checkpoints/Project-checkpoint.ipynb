{
 "cells": [
  {
   "cell_type": "markdown",
   "metadata": {},
   "source": [
    "# Visulaization of respondents' interest in the different data science topics surveyed.\n",
    "\n",
    "A survey was conducted to gauge an audience interest in different data science topics, namely:\n",
    "\n",
    "- Big Data (Spark / Hadoop)\n",
    "- Data Analysis / Statistics\n",
    "- Data Journalism\n",
    "- Data Visualization\n",
    "- Deep Learning\n",
    "- Machine Learning\n",
    "\n",
    "The participants had three options for each topic: Very Interested, Somewhat interested, and Not interested. **2,233** respondents completed the survey.\n"
   ]
  },
  {
   "cell_type": "code",
   "execution_count": 1,
   "metadata": {},
   "outputs": [],
   "source": [
    "# Import the libraries\n",
    "import pandas as pd\n",
    "import numpy as np\n",
    "import matplotlib.pyplot as plt\n"
   ]
  },
  {
   "cell_type": "code",
   "execution_count": 2,
   "metadata": {},
   "outputs": [
    {
     "name": "stdout",
     "output_type": "stream",
     "text": [
      "                            Veryinterested  Somewhatinterested  Notinterested\n",
      "Big Data (Spark / Hadoop)             1332                 729            127\n",
      "Data Analysis / Statistics            1688                 444             60\n",
      "Data Journalism                        429                1081            610\n",
      "Data Visualization                    1340                 734            102\n",
      "Deep Learning                         1263                 770            136\n",
      "Machine Learning                      1629                 477             74\n"
     ]
    }
   ],
   "source": [
    "df=pd.read_csv('Topic_Survey_Assignment.csv', index_col=0)\n",
    "df.columns = df.columns.str.replace(' ', '')\n",
    "print(df)"
   ]
  },
  {
   "cell_type": "code",
   "execution_count": null,
   "metadata": {},
   "outputs": [],
   "source": []
  }
 ],
 "metadata": {
  "kernelspec": {
   "display_name": "Python 3",
   "language": "python",
   "name": "python3"
  },
  "language_info": {
   "codemirror_mode": {
    "name": "ipython",
    "version": 3
   },
   "file_extension": ".py",
   "mimetype": "text/x-python",
   "name": "python",
   "nbconvert_exporter": "python",
   "pygments_lexer": "ipython3",
   "version": "3.7.7"
  }
 },
 "nbformat": 4,
 "nbformat_minor": 4
}
